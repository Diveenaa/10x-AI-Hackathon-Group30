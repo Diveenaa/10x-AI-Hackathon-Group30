{
 "cells": [
  {
   "cell_type": "code",
   "execution_count": 63,
   "metadata": {},
   "outputs": [
    {
     "name": "stdout",
     "output_type": "stream",
     "text": [
      "Ok!\n",
      "https://www.legislation.gov.uk/all?(title=policeORtext=police)&sort=modified\n",
      "Content-Type: text/html;charset=utf-8\n",
      "/ukpga/2020/7/contents\n",
      "/ukpga/2020/7/contents\n",
      "/wsi/2024/502/contents/made\n",
      "/wsi/2024/502/contents/made\n",
      "/wsi/2024/502/contents/made/welsh\n",
      "/ssi/2023/367/contents\n",
      "/ssi/2023/367/contents\n",
      "/uksi/2022/662/contents\n",
      "/uksi/2022/662/contents\n",
      "/ssi/2021/432/contents\n",
      "/ssi/2021/432/contents\n",
      "/ukpga/2004/18/contents\n",
      "/ukpga/2004/18/contents\n",
      "/uksi/2024/518/contents/made\n",
      "/uksi/2024/518/contents/made\n",
      "/uksi/2024/516/contents/made\n",
      "/uksi/2024/516/contents/made\n",
      "/uksi/2024/514/contents/made\n",
      "/uksi/2024/514/contents/made\n",
      "/uksi/2024/507/contents/made\n",
      "/uksi/2024/507/contents/made\n",
      "/asp/2024/3/contents\n",
      "/asp/2024/3/contents\n",
      "/ssi/2020/455/contents\n",
      "/ssi/2020/455/contents\n",
      "/uksi/2019/1457/contents\n",
      "/uksi/2019/1457/contents\n",
      "/uksi/2024/506/contents/made\n",
      "/uksi/2024/506/contents/made\n",
      "/nisr/2024/93/contents/made\n",
      "/nisr/2024/93/contents/made\n",
      "/nisr/2023/139/contents\n",
      "/nisr/2023/139/contents\n",
      "/uksi/2015/596/contents\n",
      "/uksi/2015/596/contents\n",
      "/uksi/2024/153/contents\n",
      "/uksi/2024/153/contents\n",
      "/ssi/2021/288/contents\n",
      "/ssi/2021/288/contents\n",
      "/uksi/2013/1773/contents\n",
      "/uksi/2013/1773/contents\n"
     ]
    },
    {
     "name": "stdout",
     "output_type": "stream",
     "text": [
      "Ok!\n",
      "https://www.legislation.gov.uk/ssi/2021/432/contents\n"
     ]
    }
   ],
   "source": [
    "from bs4 import BeautifulSoup\n",
    "import requests\n",
    "\n",
    "url = \"https://www.legislation.gov.uk/all\"\n",
    "theme = \"police\"\n",
    "query_string = f'?(title={theme}ORtext={theme})&sort=modified'\n",
    "\n",
    "# query_string = {\n",
    "#     \"title\": f'\"{theme}\"',\n",
    "#     \"text\": f'\"{theme}\"',\n",
    "#     \"sort\": \"modified\"    \n",
    "# }\n",
    "\n",
    "response = requests.get(url+query_string)\n",
    "\n",
    "if response.ok:\n",
    "    print(\"Ok!\")\n",
    "    print(response.url)\n",
    "\n",
    "# returns html\n",
    "print(\"Content-Type:\", response.headers['Content-Type'])\n",
    "soup = BeautifulSoup(response.text, 'html.parser')\n",
    "\n",
    "links = soup.find_all('a')\n",
    "api_calls = []\n",
    "\n",
    "# Extract the links the relevant matches on page 1\n",
    "for link in links:\n",
    "    href = link.get('href')\n",
    "    if href and '/contents' in href:\n",
    "        # href = href.split(\"/contents\")[0] + \"/data.xml\"\n",
    "        api_calls.append(href)\n",
    "\n",
    "\n",
    "for link in api_calls:\n",
    "      print(link)\n",
    "\n",
    "url = \"https://www.legislation.gov.uk\" + api_calls[10]\n",
    "response = requests.get(url)\n",
    "\n",
    "if response.ok:\n",
    "    print(\"Ok!\")\n",
    "    print(response.url)\n"
   ]
  }
 ],
 "metadata": {
  "kernelspec": {
   "display_name": "Python 3",
   "language": "python",
   "name": "python3"
  },
  "language_info": {
   "codemirror_mode": {
    "name": "ipython",
    "version": 3
   },
   "file_extension": ".py",
   "mimetype": "text/x-python",
   "name": "python",
   "nbconvert_exporter": "python",
   "pygments_lexer": "ipython3",
   "version": "3.12.0"
  }
 },
 "nbformat": 4,
 "nbformat_minor": 2
}
